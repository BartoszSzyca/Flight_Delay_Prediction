{
  "nbformat": 4,
  "nbformat_minor": 0,
  "metadata": {
    "colab": {
      "provenance": []
    },
    "kernelspec": {
      "name": "python3",
      "display_name": "Python 3"
    },
    "language_info": {
      "name": "python"
    }
  },
  "cells": [
    {
      "cell_type": "code",
      "execution_count": null,
      "metadata": {
        "colab": {
          "base_uri": "https://localhost:8080/"
        },
        "id": "fS5zkW43iRYZ",
        "outputId": "765d6eaa-63c1-4ca2-8d02-223459691da7"
      },
      "outputs": [
        {
          "output_type": "stream",
          "name": "stdout",
          "text": [
            "Drive already mounted at /content/drive; to attempt to forcibly remount, call drive.mount(\"/content/drive\", force_remount=True).\n",
            "Drive already mounted at /content/drive; to attempt to forcibly remount, call drive.mount(\"/content/drive\", force_remount=True).\n"
          ]
        }
      ],
      "source": [
        "import matplotlib.pyplot as plt\n",
        "import seaborn as sns\n",
        "from sklearn.model_selection import train_test_split\n",
        "from sklearn.tree import DecisionTreeClassifier\n",
        "from sklearn.ensemble import RandomForestClassifier\n",
        "import xgboost as xgb\n",
        "from sklearn.metrics import r2_score, mean_absolute_error, mean_squared_error, \\\n",
        "  accuracy_score, confusion_matrix, classification_report\n",
        "from google.colab import drive\n",
        "drive.mount('/content/drive')\n",
        "\n",
        "%run \"/content/drive/MyDrive/Colab Notebooks/data_processing.ipynb\""
      ]
    },
    {
      "cell_type": "code",
      "source": [
        "model = DecisionTreeClassifier(max_depth=3)\n",
        "\n",
        "model.fit(X_train, y_train)\n",
        "\n",
        "y_pred = model.predict(X_val)\n",
        "\n",
        "accuracy = accuracy_score(y_val, y_pred)\n",
        "print(f\"Dokładność modelu: {accuracy}\")"
      ],
      "metadata": {
        "colab": {
          "base_uri": "https://localhost:8080/"
        },
        "id": "_sLjiQjDjLl5",
        "outputId": "04b53c4a-975c-435e-9e1f-4628df5eb001"
      },
      "execution_count": null,
      "outputs": [
        {
          "output_type": "stream",
          "name": "stdout",
          "text": [
            "Dokładność modelu: 0.7697196147190788\n"
          ]
        }
      ]
    },
    {
      "cell_type": "code",
      "source": [
        "parameters = {\n",
        "    'learning_rate': [0.01, 0.1, 0.2],\n",
        "    'n_estimators': [50, 100, 200],\n",
        "    'max_depth': [3, 5, 7],\n",
        "    'min_child_weight': [1, 3, 5],\n",
        "    'subsample': [0.8, 0.9, 1.0],\n",
        "    'colsample_bytree': [0.8, 0.9, 1.0],\n",
        "    'gamma': [0, 1, 5],\n",
        "    'reg_alpha': [0, 0.1, 1],\n",
        "    'reg_lambda': [0, 0.1, 1],\n",
        "    'scale_pos_weight': [1, 2, 3],\n",
        "    'objective': ['binary:logistic']  # dla problemu klasyfikacji binarnej\n",
        "}"
      ],
      "metadata": {
        "id": "Q5gNJYaJFal3"
      },
      "execution_count": null,
      "outputs": []
    },
    {
      "cell_type": "code",
      "source": [
        "model_random_forest = RandomForestClassifier(max_depth=35, min_samples_split=3, min_samples_leaf=2)\n",
        "\n",
        "model_random_forest.fit(X_train, y_train)\n",
        "\n",
        "y_pred = model_random_forest.predict(X_val)\n",
        "\n",
        "accuracy = accuracy_score(y_val, y_pred)\n",
        "print(f\"Dokładność modelu: {accuracy}\")"
      ],
      "metadata": {
        "colab": {
          "base_uri": "https://localhost:8080/"
        },
        "id": "ur0plmGkjNp6",
        "outputId": "6f152e04-dfa8-42d0-dc97-1bd48bb7fe95"
      },
      "execution_count": null,
      "outputs": [
        {
          "output_type": "stream",
          "name": "stdout",
          "text": [
            "Dokładność modelu: 0.7868419958829281\n"
          ]
        }
      ]
    },
    {
      "cell_type": "code",
      "source": [
        "import xgboost as xgb\n",
        "\n",
        "model_xgboost = xgb.XGBClassifier(\n",
        "    max_depth=40\n",
        ")\n",
        "\n",
        "model_xgboost.fit(X_train, y_train)\n",
        "\n",
        "y_pred = model_xgboost.predict(X_val)\n",
        "\n",
        "accuracy = accuracy_score(y_val, y_pred)\n",
        "print(f\"Dokładność modelu: {accuracy}\")"
      ],
      "metadata": {
        "id": "6qqNn-PrjPKk",
        "colab": {
          "base_uri": "https://localhost:8080/"
        },
        "outputId": "5ea096c4-4dd4-4926-b5c5-4b3693d28cc0"
      },
      "execution_count": null,
      "outputs": [
        {
          "output_type": "stream",
          "name": "stdout",
          "text": [
            "Dokładność modelu: 0.7886784899403003\n"
          ]
        }
      ]
    },
    {
      "cell_type": "code",
      "source": [
        "import xgboost as xgb\n",
        "dtrain = xgb.DMatrix(X_train, label=y_train)\n",
        "dval = xgb.DMatrix(X_val, label=y_val)\n",
        "param = {'max_depth': 30}\n",
        "evallist = [(dtrain, 'train'), (dval, 'eval')]\n",
        "\n",
        "num_rund = 20\n",
        "bst = xgb.train(param, dtrain, num_rund, evallist)"
      ],
      "metadata": {
        "id": "gEMw76zFjcTP"
      },
      "execution_count": null,
      "outputs": []
    },
    {
      "cell_type": "code",
      "source": [
        "!pip install shap\n",
        "import shap\n",
        "xgb.plot_importance(bst)\n",
        "explainer = shap.Explainer(bst)"
      ],
      "metadata": {
        "id": "XDIT9Nj9jdjC"
      },
      "execution_count": null,
      "outputs": []
    },
    {
      "cell_type": "code",
      "source": [
        "shap_values = explainer.shap_values(X_train)"
      ],
      "metadata": {
        "id": "f6W49F6fjdo7"
      },
      "execution_count": null,
      "outputs": []
    },
    {
      "cell_type": "code",
      "source": [
        "shap.summary_plot(shap_values, X_train, feature_names=X_train.columns)"
      ],
      "metadata": {
        "id": "OPYO3WGzjeED"
      },
      "execution_count": null,
      "outputs": []
    },
    {
      "cell_type": "code",
      "source": [
        "sample_idx = 0\n",
        "\n",
        "shap.force_plot(explainer.expected_value, shap_values[sample_idx, :],\n",
        "                X_test.iloc[sample_idx], matplotlib=True)"
      ],
      "metadata": {
        "id": "8RpPtsaYjeGj"
      },
      "execution_count": null,
      "outputs": []
    },
    {
      "cell_type": "code",
      "source": [],
      "metadata": {
        "id": "ZCObe6vsjeIr"
      },
      "execution_count": null,
      "outputs": []
    }
  ]
}