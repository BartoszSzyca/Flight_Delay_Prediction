{
  "cells": [
    {
      "cell_type": "markdown",
      "metadata": {
        "id": "oPp86PCnm4FQ"
      },
      "source": [
        "---\n",
        "###Functions\n",
        "---"
      ]
    },
    {
      "cell_type": "code",
      "execution_count": null,
      "metadata": {},
      "outputs": [],
      "source": [
        "from sklearn.model_selection import RandomizedSearchCV\n",
        "import numpy as np\n",
        "import matplotlib.pyplot as plt"
      ]
    },
    {
      "cell_type": "code",
      "execution_count": null,
      "metadata": {
        "id": "FHLX21ckG4WK"
      },
      "outputs": [],
      "source": [
        "def convert_hour_to_minutes(df, column_name):\n",
        "  df[column_name] = df[column_name].apply(\n",
        "      lambda x: (int(x) // 100) * 60 + (int(x) % 100))"
      ]
    },
    {
      "cell_type": "code",
      "execution_count": null,
      "metadata": {
        "id": "zuHc3U7JCLBw"
      },
      "outputs": [],
      "source": [
        "def encode_cyclic_feature(df, column_name, max_value):\n",
        "  df[f'{column_name}_sin'] = df[column_name].apply(\n",
        "    lambda x: np.sin(2 * np.pi * x / max_value))\n",
        "  df[f'{column_name}_cos'] = df[column_name].apply(\n",
        "    lambda x: np.cos(2 * np.pi * x / max_value))\n",
        "  df.drop(column_name, axis=1, inplace=True)"
      ]
    },
    {
      "cell_type": "code",
      "execution_count": null,
      "metadata": {
        "id": "Fu-npMsDmClN"
      },
      "outputs": [],
      "source": [
        "def categorize_value(value):\n",
        "  if value < -5:\n",
        "    return -1\n",
        "  elif -5 <= value <= 5:\n",
        "    return 0\n",
        "  else:\n",
        "    return 1"
      ]
    },
    {
      "cell_type": "code",
      "execution_count": null,
      "metadata": {
        "id": "R5nQ4aCoqIar"
      },
      "outputs": [],
      "source": [
        "def random_search(model, parameters, X_train, y_train):\n",
        "  random_search = RandomizedSearchCV(model,\n",
        "                                     param_distributions=parameters,\n",
        "                                     n_iter=100,\n",
        "                                     scoring='neg_mean_squared_error',\n",
        "                                     cv=20,\n",
        "                                     n_jobs=-1)\n",
        "  random_search.fit(X_train, y_train)\n",
        "\n",
        "  return random_search"
      ]
    },
    {
      "cell_type": "code",
      "execution_count": null,
      "metadata": {
        "id": "DbOP8Eq_qV5R"
      },
      "outputs": [],
      "source": [
        "def history_to_df(history):\n",
        "  df_history = pd.DataFrame(history.history)\n",
        "  df_history['epoch'] = df_history.index + 1"
      ]
    },
    {
      "cell_type": "code",
      "execution_count": null,
      "metadata": {
        "id": "qfaW0M5ynV44"
      },
      "outputs": [],
      "source": [
        "def plt_history(df):\n",
        "\n",
        "  for i in range(len(df.columns) // 2):\n",
        "    metric = df.columns[i]\n",
        "\n",
        "    if metric == 'loss':\n",
        "      best_epoch = df[f'val_{metric}'].idxmin() + 1\n",
        "    else:\n",
        "      best_epoch = df[f'val_{metric}'].idxmax() + 1\n",
        "\n",
        "    print(f'best_epoch dla {metric}:', best_epoch)\n",
        "\n",
        "    plt.figure(figsize=(15,3))\n",
        "    plt.plot(df['epoch'], df[metric], label=f'{metric.capitalize()} treningowe',\n",
        "             marker='o')\n",
        "    plt.plot(df['epoch'], df[f'val_{metric}'],\n",
        "             label=f'{metric.capitalize()} treningowe',\n",
        "             marker='o')\n",
        "    plt.axvline(best_epoch, color='red', linestyle='--',\n",
        "                label=f'Best epoch dla {metric}')\n",
        "    plt.title(f'{metric.capitalize()} na zbiorze treningowym i walidacyjnym')\n",
        "    plt.xlabel('Epoch')\n",
        "    plt.ylabel(metric.capitalize())\n",
        "    plt.legend()\n",
        "    plt.grid()\n",
        "    plt.show()"
      ]
    }
  ],
  "metadata": {
    "accelerator": "GPU",
    "colab": {
      "gpuType": "T4",
      "provenance": [],
      "toc_visible": true
    },
    "kernelspec": {
      "display_name": "Python 3",
      "name": "python3"
    },
    "language_info": {
      "name": "python"
    }
  },
  "nbformat": 4,
  "nbformat_minor": 0
}
