{
  "nbformat": 4,
  "nbformat_minor": 0,
  "metadata": {
    "colab": {
      "provenance": []
    },
    "kernelspec": {
      "name": "python3",
      "display_name": "Python 3"
    },
    "language_info": {
      "name": "python"
    }
  },
  "cells": [
    {
      "cell_type": "code",
      "execution_count": null,
      "metadata": {
        "id": "edMGUFI1eScP",
        "colab": {
          "base_uri": "https://localhost:8080/"
        },
        "outputId": "8a687eaf-9dd8-4d2a-9c9a-5e9dc6141343"
      },
      "outputs": [
        {
          "output_type": "stream",
          "name": "stdout",
          "text": [
            "Drive already mounted at /content/drive; to attempt to forcibly remount, call drive.mount(\"/content/drive\", force_remount=True).\n"
          ]
        }
      ],
      "source": [
        "from sklearn.preprocessing import LabelEncoder\n",
        "from sklearn.model_selection import train_test_split\n",
        "from google.colab import drive\n",
        "%run \"/content/drive/MyDrive/Colab Notebooks/functions.ipynb\"\n",
        "\n",
        "drive.mount('/content/drive')\n",
        "df_airlines = pd.read_csv('/content/drive/MyDrive/Colab Notebooks/airlines.csv')\n",
        "df_airports = pd.read_csv('/content/drive/MyDrive/Colab Notebooks/airports.csv')\n",
        "df_flights = pd.read_csv('/content/drive/MyDrive/Colab Notebooks/flights.csv',\n",
        "                         dtype={'ORIGIN_AIRPORT': str,\n",
        "                                'DESTINATION_AIRPORT': str})"
      ]
    },
    {
      "cell_type": "code",
      "source": [
        "df = df_flights.copy()"
      ],
      "metadata": {
        "id": "B0aBMNOFfVUy"
      },
      "execution_count": null,
      "outputs": []
    },
    {
      "cell_type": "code",
      "source": [
        "columns_hour_to_minutes = ['SCHEDULED_DEPARTURE', 'SCHEDULED_ARRIVAL']\n",
        "\n",
        "df_deleted = df[df['CANCELLED'].notna() | df['DIVERTED'].notna()]\n",
        "df = df[~((df['CANCELLED'] == 1\n",
        "                           ) | (df['DIVERTED'] == 1))]\n",
        "\n",
        "for column in columns_hour_to_minutes:\n",
        "  convert_hour_to_minutes(df, column)\n",
        "\n",
        "for column in columns_hour_to_minutes:\n",
        "  encode_cyclic_feature(df, column, 1440)\n",
        "\n",
        "encode_cyclic_feature(df, 'DAY', 31)\n",
        "encode_cyclic_feature(df, 'DAY_OF_WEEK', 7)\n",
        "encode_cyclic_feature(df, 'MONTH', 12)\n",
        "\n",
        "label_encoder = LabelEncoder()\n",
        "\n",
        "df_airports['ID'] = label_encoder.fit_transform(df_airports['IATA_CODE'])\n",
        "df_airlines['ID'] = label_encoder.fit_transform(df_airlines['IATA_CODE'])\n",
        "df['ID_TAIL_NUMBER'] = label_encoder.fit_transform(df['TAIL_NUMBER'])\n",
        "\n",
        "airpot_map = df_airports.set_index('IATA_CODE')['ID'].to_dict()\n",
        "airlines_map = df_airlines.set_index('IATA_CODE')['ID'].to_dict()\n",
        "\n",
        "df['ID_ORIGIN_AIRPORT'] = df['ORIGIN_AIRPORT'].map(airpot_map)\n",
        "df['ID_DESTINATION_AIRPORT'] = df['DESTINATION_AIRPORT'].map(airpot_map)\n",
        "df['ID_AIRLINE'] = df['AIRLINE'].map(airlines_map)\n",
        "df['ID_ORIGIN_AIRPORT'].fillna(df['ORIGIN_AIRPORT'], inplace=True)\n",
        "df['ID_DESTINATION_AIRPORT'].fillna(df['DESTINATION_AIRPORT'], inplace=True)\n",
        "df['ID_ARRIVAL_DELAY'] = df['ARRIVAL_DELAY'].apply(categorize_value)\n",
        "df['ID_ORIGIN_AIRPORT'] = df['ID_ORIGIN_AIRPORT'].astype(int)\n",
        "df['ID_DESTINATION_AIRPORT'] = df['ID_DESTINATION_AIRPORT'].astype(int)\n",
        "\n",
        "df = df.astype({\n",
        "                'DAY_sin': 'float32',\n",
        "                'DAY_cos': 'float32',\n",
        "                'DAY_OF_WEEK_sin': 'float32',\n",
        "                'DAY_OF_WEEK_cos': 'float32',\n",
        "                'MONTH_sin': 'float32',\n",
        "                'MONTH_cos': 'float32',\n",
        "                'ID_AIRLINE': 'int16',\n",
        "                'FLIGHT_NUMBER': 'int16',\n",
        "                'ID_TAIL_NUMBER': 'int16',\n",
        "                'SCHEDULED_DEPARTURE_sin': 'float32',\n",
        "                'SCHEDULED_DEPARTURE_cos': 'float32',\n",
        "                'ID_ORIGIN_AIRPORT': 'int16',\n",
        "                'ID_DESTINATION_AIRPORT': 'int16',\n",
        "                'SCHEDULED_TIME': 'float32',\n",
        "                'SCHEDULED_ARRIVAL_sin': 'float32',\n",
        "                'SCHEDULED_ARRIVAL_cos': 'float32',\n",
        "                'DISTANCE': 'int16'\n",
        "})\n",
        "\n",
        "\n",
        "X = df[['DAY_sin', 'DAY_cos', 'DAY_OF_WEEK_sin', 'DAY_OF_WEEK_cos', 'MONTH_sin',\n",
        "        'MONTH_cos', 'ID_AIRLINE', 'FLIGHT_NUMBER', 'ID_TAIL_NUMBER',\n",
        "        'SCHEDULED_DEPARTURE_sin', 'SCHEDULED_DEPARTURE_cos',\n",
        "        'ID_ORIGIN_AIRPORT', 'ID_DESTINATION_AIRPORT', 'SCHEDULED_TIME',\n",
        "        'SCHEDULED_ARRIVAL_sin', 'SCHEDULED_ARRIVAL_cos', 'DISTANCE']]\n",
        "y = df['ID_ARRIVAL_DELAY']\n",
        "\n",
        "X_train, X_test, y_train, y_test = train_test_split(X, y, test_size=0.2,\n",
        "                                                    random_state=42)\n",
        "X_train, X_val, y_train, y_val = train_test_split(X_train, y_train,\n",
        "                                                  test_size=0.2,\n",
        "                                                  random_state=42)"
      ],
      "metadata": {
        "id": "kPBs4HDZfWg_"
      },
      "execution_count": null,
      "outputs": []
    },
    {
      "cell_type": "code",
      "source": [
        "del df_flights\n",
        "del X\n",
        "del y\n",
        "del df\n",
        "del df_airports\n",
        "del df_airlines\n",
        "del airlines_map\n",
        "del airpot_map"
      ],
      "metadata": {
        "id": "6F6BIk4gfYKx"
      },
      "execution_count": null,
      "outputs": []
    }
  ]
}